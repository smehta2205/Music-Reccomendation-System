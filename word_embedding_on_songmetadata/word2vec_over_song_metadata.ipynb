{
  "nbformat": 4,
  "nbformat_minor": 0,
  "metadata": {
    "colab": {
      "name": "project2_cutdata.ipynb",
      "provenance": [],
      "collapsed_sections": [],
      "machine_shape": "hm"
    },
    "kernelspec": {
      "name": "python3",
      "display_name": "Python 3"
    },
    "accelerator": "GPU"
  },
  "cells": [
    {
      "cell_type": "code",
      "metadata": {
        "id": "mJF9C-5N-AYA",
        "colab_type": "code",
        "outputId": "a4e34c04-3e01-4ae5-b69f-3dbfd431b2dc",
        "colab": {
          "base_uri": "https://localhost:8080/",
          "height": 51
        }
      },
      "source": [
        "import torch\n",
        "\n",
        "# If there's a GPU available...\n",
        "if torch.cuda.is_available():    \n",
        "\n",
        "    # Tell PyTorch to use the GPU.    \n",
        "    device = torch.device(\"cuda\")\n",
        "\n",
        "    print('There are %d GPU(s) available.' % torch.cuda.device_count())\n",
        "\n",
        "    print('We will use the GPU:', torch.cuda.get_device_name(0))\n",
        "\n",
        "# If not...\n",
        "else:\n",
        "    print('No GPU available, using the CPU instead.')\n",
        "    device = torch.device(\"cpu\")"
      ],
      "execution_count": 1,
      "outputs": [
        {
          "output_type": "stream",
          "text": [
            "There are 1 GPU(s) available.\n",
            "We will use the GPU: Tesla P100-PCIE-16GB\n"
          ],
          "name": "stdout"
        }
      ]
    },
    {
      "cell_type": "code",
      "metadata": {
        "id": "CfhLLnuz6sCf",
        "colab_type": "code",
        "colab": {}
      },
      "source": [
        "!pip install -U -q PyDrive\n",
        "from pydrive.auth import GoogleAuth\n",
        "from pydrive.drive import GoogleDrive\n",
        "from google.colab import auth\n",
        "from oauth2client.client import GoogleCredentials\n",
        "# Authenticate and create the PyDrive client.\n",
        "auth.authenticate_user()\n",
        "gauth = GoogleAuth()\n",
        "gauth.credentials = GoogleCredentials.get_application_default()\n",
        "drive = GoogleDrive(gauth)\n"
      ],
      "execution_count": 0,
      "outputs": []
    },
    {
      "cell_type": "code",
      "metadata": {
        "id": "FKuOPzOA6wHy",
        "colab_type": "code",
        "colab": {}
      },
      "source": [
        "train_link_1=\"https://drive.google.com/open?id=1Lpmb_R5J1VApLIA22FfQmZKtG-B03X_s\"\n",
        "initial1, train_id1 = train_link_1.split('=')\n",
        "\n",
        "downloaded1 = drive.CreateFile({'id':train_id1})\n",
        "downloaded1.GetContentFile('song_data.csv')"
      ],
      "execution_count": 0,
      "outputs": []
    },
    {
      "cell_type": "code",
      "metadata": {
        "id": "H2CRyOPw6zsi",
        "colab_type": "code",
        "colab": {}
      },
      "source": [
        "train_link_2=\"https://drive.google.com/open?id=1frWsCzJ2ffCpJ-c-Ta19ybejrEaMmdSX\"\n",
        "initial2, train_id2 = train_link_2.split('=')\n",
        "\n",
        "downloaded2 = drive.CreateFile({'id':train_id2})\n",
        "downloaded2.GetContentFile('kaggle_visible_evaluation_triplets.txt')"
      ],
      "execution_count": 0,
      "outputs": []
    },
    {
      "cell_type": "markdown",
      "metadata": {
        "id": "aEYR5vud_np2",
        "colab_type": "text"
      },
      "source": [
        "**Data loading and pre-processing:**"
      ]
    },
    {
      "cell_type": "code",
      "metadata": {
        "id": "Vjckb4AH7yEi",
        "colab_type": "code",
        "colab": {}
      },
      "source": [
        "#reading the triplets file and loading songs with the number of times all users used it\n",
        "f1 = open('kaggle_visible_evaluation_triplets.txt', 'r')\n",
        "test_song_to_count = dict() \n",
        "for line in f1:\n",
        "    _, song, _ = line.strip().split('\\t') \n",
        "    if song in test_song_to_count: \n",
        "        test_song_to_count[song] += 1 \n",
        "    else: \n",
        "        test_song_to_count[song] = 1 \n",
        "    "
      ],
      "execution_count": 0,
      "outputs": []
    },
    {
      "cell_type": "code",
      "metadata": {
        "id": "F1jFIjn58QB3",
        "colab_type": "code",
        "colab": {}
      },
      "source": [
        "import pandas as pd\n",
        "song_data = pd.read_csv('song_data.csv')"
      ],
      "execution_count": 0,
      "outputs": []
    },
    {
      "cell_type": "code",
      "metadata": {
        "id": "KpvDue6V8YMu",
        "colab_type": "code",
        "outputId": "b49ee056-f697-44a8-9454-755d9e563bf4",
        "colab": {
          "base_uri": "https://localhost:8080/",
          "height": 34
        }
      },
      "source": [
        "song_dict = dict.fromkeys(song_data['song_id'], [])\n",
        "song_id = song_data['song_id']\n",
        "len(song_id)"
      ],
      "execution_count": 7,
      "outputs": [
        {
          "output_type": "execute_result",
          "data": {
            "text/plain": [
              "1000000"
            ]
          },
          "metadata": {
            "tags": []
          },
          "execution_count": 7
        }
      ]
    },
    {
      "cell_type": "code",
      "metadata": {
        "id": "Xc1YOWcW7EOc",
        "colab_type": "code",
        "colab": {}
      },
      "source": [
        "#getting titles, artist_names and release for a song\n",
        "t = song_data['title'].tolist()\n",
        "r = song_data['release'].tolist()\n",
        "a = song_data['artist_name'].tolist()"
      ],
      "execution_count": 0,
      "outputs": []
    },
    {
      "cell_type": "code",
      "metadata": {
        "id": "na3I5ZqtMzhO",
        "colab_type": "code",
        "colab": {}
      },
      "source": [
        "#preprocessing\n",
        "titles = []\n",
        "for i in t:\n",
        "  i = str(i)\n",
        "  titles.append(i.replace('[^\\w\\s]','').replace('\\n','').lower().replace('.','').replace('-',' ').replace(',','').replace('?','').replace('/','').replace('\\'','').replace('(','').replace(')',''))\n",
        "releases = []\n",
        "for i in r:\n",
        "  i = str(i)\n",
        "  releases.append(i.replace('[^\\w\\s]','').replace('\\n','').lower().replace('.','').replace('-',' ').replace(',','').replace('?','').replace('/','').replace('\\'','').replace('(','').replace(')',''))\n",
        "artists = []\n",
        "for i in a:\n",
        "  i = str(i)\n",
        "  artists.append(i.replace('[^\\w\\s]','').replace('\\n','').lower().replace('.','').replace('-',' ').replace(',','').replace('?','').replace('/','').replace('\\'','').replace('(','').replace(')',''))"
      ],
      "execution_count": 0,
      "outputs": []
    },
    {
      "cell_type": "code",
      "metadata": {
        "id": "GKr9Mpnh8hnX",
        "colab_type": "code",
        "colab": {}
      },
      "source": [
        "song_details = []\n",
        "for i,j,k,l in zip(song_id, titles, releases, artists):\n",
        "  song_details.append([i,j,k,l])"
      ],
      "execution_count": 0,
      "outputs": []
    },
    {
      "cell_type": "code",
      "metadata": {
        "id": "xVs8pHas8lTN",
        "colab_type": "code",
        "colab": {}
      },
      "source": [
        "trial_songs = []\n",
        "trial_id = []\n",
        "for i in song_details:\n",
        "  if i[0] in test_song_to_count:\n",
        "    trial_songs.append(i)\n",
        "    trial_id.append(i[0])"
      ],
      "execution_count": 0,
      "outputs": []
    },
    {
      "cell_type": "code",
      "metadata": {
        "id": "g6lr538X8pr2",
        "colab_type": "code",
        "outputId": "deb9ec29-11b9-4e14-e5d3-0f74ed9841aa",
        "colab": {
          "base_uri": "https://localhost:8080/",
          "height": 34
        }
      },
      "source": [
        "len(trial_songs)"
      ],
      "execution_count": 12,
      "outputs": [
        {
          "output_type": "execute_result",
          "data": {
            "text/plain": [
              "163828"
            ]
          },
          "metadata": {
            "tags": []
          },
          "execution_count": 12
        }
      ]
    },
    {
      "cell_type": "code",
      "metadata": {
        "id": "Dbnheee7OXZR",
        "colab_type": "code",
        "colab": {}
      },
      "source": [
        "import numpy as np\n",
        "d = np.arange(0,len(trial_songs))\n",
        "songids = dict.fromkeys(d)\n",
        "for i in range(0,len(trial_songs)):\n",
        "  songids[i] = song_details[i][0]"
      ],
      "execution_count": 0,
      "outputs": []
    },
    {
      "cell_type": "code",
      "metadata": {
        "id": "MDvDtoUCPVeq",
        "colab_type": "code",
        "colab": {}
      },
      "source": [
        "song_deets = []\n",
        "for i in trial_songs:\n",
        "#for i,j,k in zip(titles, releases, artists):\n",
        "  song_deets.append([i[1],i[2],i[3]])"
      ],
      "execution_count": 0,
      "outputs": []
    },
    {
      "cell_type": "code",
      "metadata": {
        "id": "WgYTJsfmREQ4",
        "colab_type": "code",
        "colab": {}
      },
      "source": [
        "song_d = []\n",
        "for i in song_deets:\n",
        "  temp = []\n",
        "  for j in i:\n",
        "    temp.extend(j.split(\" \"))\n",
        "  song_d.append(temp)"
      ],
      "execution_count": 0,
      "outputs": []
    },
    {
      "cell_type": "code",
      "metadata": {
        "id": "Y04vIR7tO2Yg",
        "colab_type": "code",
        "colab": {}
      },
      "source": [
        "import random\n",
        "song_d = random.sample(song_d, 60000)   #taking any 60000 songs for similarity calculation"
      ],
      "execution_count": 0,
      "outputs": []
    },
    {
      "cell_type": "markdown",
      "metadata": {
        "id": "w6Z88aNO_hWK",
        "colab_type": "text"
      },
      "source": [
        "**Training the model:**"
      ]
    },
    {
      "cell_type": "code",
      "metadata": {
        "id": "bbY4ZimURhhj",
        "colab_type": "code",
        "outputId": "7f6de1ca-a366-47e5-8f96-d88a404f1e75",
        "colab": {
          "base_uri": "https://localhost:8080/",
          "height": 34
        }
      },
      "source": [
        "#training the Word2Vec model with the tokenized data\n",
        "from gensim.models import Word2Vec\n",
        "model = Word2Vec(song_d, size=10, window=2, sg=1, min_count=1)\n",
        "model.train(song_d, total_examples=len(song_d), epochs=2)"
      ],
      "execution_count": 17,
      "outputs": [
        {
          "output_type": "execute_result",
          "data": {
            "text/plain": [
              "(946080, 1066332)"
            ]
          },
          "metadata": {
            "tags": []
          },
          "execution_count": 17
        }
      ]
    },
    {
      "cell_type": "code",
      "metadata": {
        "id": "_8LZyogPmRF0",
        "colab_type": "code",
        "outputId": "4c4b844f-ed8b-4b9b-d84b-0005b7259d08",
        "colab": {
          "base_uri": "https://localhost:8080/",
          "height": 51
        }
      },
      "source": [
        "## song detail representation based on the model generated\n",
        "import numpy as np\n",
        "song_sum = []\n",
        "for i in range(0,len(song_d)):\n",
        "  sum1 = np.zeros(10)\n",
        "  for j in range(0,len(song_d[i])):\n",
        "    sum1 += model[song_d[i][j]]\n",
        "  #print(i)\n",
        "  song_sum.append(sum1/len(sum1))"
      ],
      "execution_count": 18,
      "outputs": [
        {
          "output_type": "stream",
          "text": [
            "/usr/local/lib/python3.6/dist-packages/ipykernel_launcher.py:6: DeprecationWarning: Call to deprecated `__getitem__` (Method will be removed in 4.0.0, use self.wv.__getitem__() instead).\n",
            "  \n"
          ],
          "name": "stderr"
        }
      ]
    },
    {
      "cell_type": "markdown",
      "metadata": {
        "id": "JVVCwDg9_W46",
        "colab_type": "text"
      },
      "source": [
        "**Finding cosine similarity between songs and storing:**"
      ]
    },
    {
      "cell_type": "code",
      "metadata": {
        "id": "ZFx6jA0TorvY",
        "colab_type": "code",
        "colab": {}
      },
      "source": [
        "from scipy import sparse\n",
        "sp_song_sum = sparse.csr_matrix(song_sum)    #converting the matrix to a sparse matrix\n",
        "#song_sum_arr = sp_song_sum.todense()"
      ],
      "execution_count": 0,
      "outputs": []
    },
    {
      "cell_type": "code",
      "metadata": {
        "id": "gkMXXIMX9t7A",
        "colab_type": "code",
        "colab": {}
      },
      "source": [
        "#converts the sparse matrix to a tensor\n",
        "from scipy.sparse import coo_matrix\n",
        "import torch\n",
        "coo = coo_matrix(sp_song_sum)\n",
        "\n",
        "values = coo.data\n",
        "indices = np.vstack((coo.row, coo.col))\n",
        "\n",
        "i = torch.cuda.LongTensor(indices)\n",
        "v = torch.cuda.FloatTensor(values)\n",
        "shape = coo.shape\n",
        "\n",
        "torch_song = torch.sparse.FloatTensor(i, v, torch.Size(shape)).to_dense()"
      ],
      "execution_count": 0,
      "outputs": []
    },
    {
      "cell_type": "code",
      "metadata": {
        "id": "Ur-RqH-b_5I_",
        "colab_type": "code",
        "colab": {}
      },
      "source": [
        "#freeing up memory which is not being used\n",
        "del(v)\n",
        "del(i)\n",
        "del(indices)\n",
        "del(values)\n",
        "del(coo)\n",
        "del(song_sum)"
      ],
      "execution_count": 0,
      "outputs": []
    },
    {
      "cell_type": "code",
      "metadata": {
        "id": "e16PN8XJ9xTj",
        "colab_type": "code",
        "colab": {}
      },
      "source": [
        "#finds cosine similarity\n",
        "a_norm = (torch_song) / (torch_song.norm(dim=1)[:, None])\n",
        "b_norm = (torch_song[0:]) / (torch_song[0:].norm(dim=1)[:, None])\n",
        "res1 = torch.mm((a_norm), (b_norm.transpose(0,1)))"
      ],
      "execution_count": 0,
      "outputs": []
    },
    {
      "cell_type": "code",
      "metadata": {
        "id": "VWEXwWxy92aF",
        "colab_type": "code",
        "colab": {}
      },
      "source": [
        "del(torch_song)"
      ],
      "execution_count": 0,
      "outputs": []
    },
    {
      "cell_type": "code",
      "metadata": {
        "id": "bezYckaH_fvs",
        "colab_type": "code",
        "colab": {}
      },
      "source": [
        "#getting top k songs for each song\n",
        "import tensorflow as tf\n",
        "\n",
        "song_sim = dict.fromkeys(np.arange(60000))\n",
        "for i in range(len(res1)):\n",
        "  val, ind = tf.math.top_k(res1[i].cpu(), k=70, sorted=True, name=None)\n",
        "  song_sim[i] = ind"
      ],
      "execution_count": 0,
      "outputs": []
    },
    {
      "cell_type": "code",
      "metadata": {
        "id": "x6yIsHR8MmM9",
        "colab_type": "code",
        "colab": {}
      },
      "source": [
        "#converting obtained tensor to numpy array and then list\n",
        "for i in song_sim:\n",
        "  song_sim[i] = song_sim[i].numpy()\n",
        "  song_sim[i] = list(song_sim[i])"
      ],
      "execution_count": 0,
      "outputs": []
    },
    {
      "cell_type": "code",
      "metadata": {
        "id": "HvPQDwVUGixH",
        "colab_type": "code",
        "colab": {}
      },
      "source": [
        "#getting song names for each similar other song\n",
        "song_sim_names = {}\n",
        "for i in song_sim:\n",
        "  temp = []\n",
        "  for j in song_sim[i]:\n",
        "    temp.append(songids[j])\n",
        "  song_sim_names[songids[i]] = temp"
      ],
      "execution_count": 0,
      "outputs": []
    },
    {
      "cell_type": "markdown",
      "metadata": {
        "id": "68lhdpuv_QBR",
        "colab_type": "text"
      },
      "source": [
        "**Splitting into train and test data set:**"
      ]
    },
    {
      "cell_type": "code",
      "metadata": {
        "id": "-wT2n8uAYOC1",
        "colab_type": "code",
        "colab": {}
      },
      "source": [
        "#making a list of all lines in the file, based on user_id\n",
        "f2 = open('kaggle_visible_evaluation_triplets.txt', 'r')\n",
        "user_list = []\n",
        "for line in f2:\n",
        "  user, song, _ = line.strip().split('\\t') \n",
        "  user_list.append(user)"
      ],
      "execution_count": 0,
      "outputs": []
    },
    {
      "cell_type": "code",
      "metadata": {
        "id": "eZB2avEqObJh",
        "colab_type": "code",
        "colab": {}
      },
      "source": [
        "#for each user, all the songs he has listened to along with the number of times he has listened it to\n",
        "from collections import defaultdict\n",
        "\n",
        "f2 = open('kaggle_visible_evaluation_triplets.txt', 'r')\n",
        "user_to_song = defaultdict(list)\n",
        "for line in f2:\n",
        "  user, song, sc = line.strip().split('\\t') \n",
        "  sc = int(sc)\n",
        "  user_to_song[user].extend([song]*sc) "
      ],
      "execution_count": 0,
      "outputs": []
    },
    {
      "cell_type": "code",
      "metadata": {
        "id": "LJJ26Vo-4rkt",
        "colab_type": "code",
        "colab": {}
      },
      "source": [
        "#splitting each user's items into testing and validation data\n",
        "from math import floor\n",
        "import sklearn.model_selection\n",
        "user_train_data = dict.fromkeys(user_list)\n",
        "user_test_data = dict.fromkeys(user_list)\n",
        "for i in user_to_song:\n",
        "  u_train,u_test = sklearn.model_selection.train_test_split(user_to_song[i],train_size=0.75, test_size = 0.25)\n",
        "  user_train_data[i] = u_train\n",
        "  user_test_data[i] = u_test"
      ],
      "execution_count": 0,
      "outputs": []
    },
    {
      "cell_type": "code",
      "metadata": {
        "id": "221YpqB0rWdI",
        "colab_type": "code",
        "colab": {}
      },
      "source": [
        "#taking all similar songs for a given user\n",
        "user_data_used = dict.fromkeys(user_train_data, [])\n",
        "for i in user_data_used:\n",
        "  user_data_used[i] = []\n",
        "  temp = []\n",
        "  for j in user_train_data[i]:\n",
        "    if j in song_sim_names and song_sim_names[j] not in temp:\n",
        "      temp.extend(song_sim_names[j])\n",
        "    temp.append(j)\n",
        "    \n",
        "  user_data_used[i].extend(temp)"
      ],
      "execution_count": 0,
      "outputs": []
    },
    {
      "cell_type": "code",
      "metadata": {
        "id": "0gTuXoORuOgJ",
        "colab_type": "code",
        "colab": {}
      },
      "source": [
        "#making predicitions based on the 75% data we have\n",
        "testing_set = dict.fromkeys(user_test_data, [])\n",
        "for i in testing_set:\n",
        "  if i in user_data_used:\n",
        "    testing_set[i] = (user_data_used[i])"
      ],
      "execution_count": 0,
      "outputs": []
    },
    {
      "cell_type": "markdown",
      "metadata": {
        "id": "NFlHDHMz9WRI",
        "colab_type": "text"
      },
      "source": [
        "**r-Precision:**"
      ]
    },
    {
      "cell_type": "code",
      "metadata": {
        "id": "nQKuvSBX8jEF",
        "colab_type": "code",
        "colab": {}
      },
      "source": [
        "ts = dict()\n",
        "for i in testing_set:\n",
        "  ts[i] = testing_set[i][0:len(user_test_data)]    #taking only documents equal to relevant documents "
      ],
      "execution_count": 0,
      "outputs": []
    },
    {
      "cell_type": "code",
      "metadata": {
        "id": "oc8JEpWx_jBc",
        "colab_type": "code",
        "colab": {}
      },
      "source": [
        "#finding matches \n",
        "user_match = dict()\n",
        "for i in user_test_data:\n",
        "  match = 0\n",
        "  for j in range(len(user_test_data[i])):\n",
        "    if user_test_data[i][j] in ts[i]:        \n",
        "      match+=1\n",
        "  user_match[i] = match"
      ],
      "execution_count": 0,
      "outputs": []
    },
    {
      "cell_type": "code",
      "metadata": {
        "id": "rN3OnpuYAk-X",
        "colab_type": "code",
        "colab": {}
      },
      "source": [
        "#calculating every user's r-precision\n",
        "user_r_prec = dict()\n",
        "for i in user_match:\n",
        "  try:\n",
        "    user_r_prec[i] = user_match[i]/len(ts[i])\n",
        "  except:\n",
        "    user_r_prec[i] = 0"
      ],
      "execution_count": 0,
      "outputs": []
    },
    {
      "cell_type": "code",
      "metadata": {
        "id": "gn2GGnseAmjd",
        "colab_type": "code",
        "colab": {}
      },
      "source": [
        "#average r-precision\n",
        "sum_prec = 0\n",
        "for i in user_r_prec:\n",
        "  sum_prec+=user_r_prec[i]\n",
        "r_prec = sum_prec/len(user_r_prec)"
      ],
      "execution_count": 0,
      "outputs": []
    },
    {
      "cell_type": "code",
      "metadata": {
        "id": "vjQRkMYT6eNS",
        "colab_type": "code",
        "colab": {
          "base_uri": "https://localhost:8080/",
          "height": 34
        },
        "outputId": "c689e22b-2d49-42cc-cb31-11d4e682b979"
      },
      "source": [
        "print(\"The average r-precision = \", r_prec)"
      ],
      "execution_count": 36,
      "outputs": [
        {
          "output_type": "stream",
          "text": [
            "The average r-precision =  0.13029285514326572\n"
          ],
          "name": "stdout"
        }
      ]
    },
    {
      "cell_type": "markdown",
      "metadata": {
        "id": "TTFUezYL9pVN",
        "colab_type": "text"
      },
      "source": [
        "**Precision:**"
      ]
    },
    {
      "cell_type": "code",
      "metadata": {
        "colab_type": "code",
        "id": "XEXK7_qg9uo0",
        "colab": {}
      },
      "source": [
        "#finding matches\n",
        "user_match_p = dict()\n",
        "for i in user_test_data:\n",
        "  match = 0\n",
        "  for j in range(len(user_test_data[i])):\n",
        "    if list(user_test_data[i])[j] in testing_set[i]:        \n",
        "      match+=1\n",
        "  user_match_p[i] = match"
      ],
      "execution_count": 0,
      "outputs": []
    },
    {
      "cell_type": "code",
      "metadata": {
        "colab_type": "code",
        "id": "fKR7SXxN9upC",
        "colab": {}
      },
      "source": [
        "#calculating every user's precision\n",
        "user_prec = dict()\n",
        "for i in user_match_p:\n",
        "  try:\n",
        "    user_prec[i] = user_match_p[i]/len(testing_set[i])\n",
        "  except:\n",
        "    user_prec[i] = 0"
      ],
      "execution_count": 0,
      "outputs": []
    },
    {
      "cell_type": "code",
      "metadata": {
        "colab_type": "code",
        "id": "TU4jeyyn9upJ",
        "colab": {}
      },
      "source": [
        "#average precision\n",
        "sum_p = 0\n",
        "for i in user_prec:\n",
        "  sum_p+=user_prec[i]\n",
        "prec = sum_p/len(user_prec)"
      ],
      "execution_count": 0,
      "outputs": []
    },
    {
      "cell_type": "code",
      "metadata": {
        "colab_type": "code",
        "outputId": "cd820cea-7e72-4482-eec3-469ed59ece3e",
        "id": "7X03u9ax9upP",
        "colab": {
          "base_uri": "https://localhost:8080/",
          "height": 34
        }
      },
      "source": [
        "print(\"The average precision = \", prec)"
      ],
      "execution_count": 40,
      "outputs": [
        {
          "output_type": "stream",
          "text": [
            "The average precision =  0.13029285514326572\n"
          ],
          "name": "stdout"
        }
      ]
    },
    {
      "cell_type": "markdown",
      "metadata": {
        "id": "vxR6k3IU9v0P",
        "colab_type": "text"
      },
      "source": [
        "**Recall:**"
      ]
    },
    {
      "cell_type": "code",
      "metadata": {
        "id": "fynvVoHS5N0T",
        "colab_type": "code",
        "colab": {}
      },
      "source": [
        "#calculating every user's recall \n",
        "user_recall = dict.fromkeys(user_match_p)\n",
        "for i in user_match_p:\n",
        "  try:\n",
        "    user_recall[i] = user_match_p[i]/len(user_test_data[i])\n",
        "  except:\n",
        "    user_recall[i] = 0"
      ],
      "execution_count": 0,
      "outputs": []
    },
    {
      "cell_type": "code",
      "metadata": {
        "id": "PiEpNT4C5XCJ",
        "colab_type": "code",
        "colab": {}
      },
      "source": [
        "#average recall\n",
        "sum_rec = 0\n",
        "for i in user_recall:\n",
        "  sum_rec+=user_recall[i]\n",
        "recall = sum_rec/len(user_recall)"
      ],
      "execution_count": 0,
      "outputs": []
    },
    {
      "cell_type": "code",
      "metadata": {
        "id": "UW49sWbaA4KY",
        "colab_type": "code",
        "outputId": "1c3160ac-3986-4c6e-a13d-ae5eb03074b6",
        "colab": {
          "base_uri": "https://localhost:8080/",
          "height": 34
        }
      },
      "source": [
        "print(\"The average recall = \", recall)"
      ],
      "execution_count": 43,
      "outputs": [
        {
          "output_type": "stream",
          "text": [
            "The average recall =  0.602622555786544\n"
          ],
          "name": "stdout"
        }
      ]
    },
    {
      "cell_type": "markdown",
      "metadata": {
        "id": "DtvaDXSejT_N",
        "colab_type": "text"
      },
      "source": [
        "**MRR:**"
      ]
    },
    {
      "cell_type": "code",
      "metadata": {
        "id": "RXxPTlkUjWyF",
        "colab_type": "code",
        "colab": {}
      },
      "source": [
        "#calculating mrr\n",
        "user_mrr = dict.fromkeys(testing_set)\n",
        "for i in testing_set:\n",
        "  rr=0\n",
        "  for p, j in enumerate(testing_set[i]):\n",
        "    if j in user_test_data[i]:        \n",
        "      rr = 1 / (p + 1)\n",
        "      break\n",
        "  user_mrr[i] = rr"
      ],
      "execution_count": 0,
      "outputs": []
    },
    {
      "cell_type": "code",
      "metadata": {
        "id": "LJ7HpR3BkOSn",
        "colab_type": "code",
        "colab": {}
      },
      "source": [
        "#average mrr\n",
        "sum_mrr = 0\n",
        "for i in user_mrr:\n",
        "  sum_mrr+=user_mrr[i]\n",
        "mrr = sum_mrr/len(user_mrr)"
      ],
      "execution_count": 0,
      "outputs": []
    },
    {
      "cell_type": "code",
      "metadata": {
        "id": "gVa8jyH3kXWO",
        "colab_type": "code",
        "colab": {
          "base_uri": "https://localhost:8080/",
          "height": 34
        },
        "outputId": "6c56f3f3-64b2-4ad7-aea4-8090a61b984e"
      },
      "source": [
        "print(\"The average MRR = \", mrr)"
      ],
      "execution_count": 46,
      "outputs": [
        {
          "output_type": "stream",
          "text": [
            "The average MRR =  0.5675896037764139\n"
          ],
          "name": "stdout"
        }
      ]
    },
    {
      "cell_type": "code",
      "metadata": {
        "id": "4lI_J28-BZkN",
        "colab_type": "code",
        "colab": {
          "base_uri": "https://localhost:8080/",
          "height": 80
        },
        "outputId": "8fb4c378-c04a-4b59-aaa1-fd6a42749762"
      },
      "source": [
        "summary = []\n",
        "summary.append(('Word2Vec with song metadata',prec , recall, mrr, r_prec))\n",
        "\n",
        "summary_df = pd.DataFrame(summary, columns = ['Model', 'Average Precision', 'Average Recall', 'Average MRR', 'Average r-Precision'])\n",
        "summary_df"
      ],
      "execution_count": 47,
      "outputs": [
        {
          "output_type": "execute_result",
          "data": {
            "text/html": [
              "<div>\n",
              "<style scoped>\n",
              "    .dataframe tbody tr th:only-of-type {\n",
              "        vertical-align: middle;\n",
              "    }\n",
              "\n",
              "    .dataframe tbody tr th {\n",
              "        vertical-align: top;\n",
              "    }\n",
              "\n",
              "    .dataframe thead th {\n",
              "        text-align: right;\n",
              "    }\n",
              "</style>\n",
              "<table border=\"1\" class=\"dataframe\">\n",
              "  <thead>\n",
              "    <tr style=\"text-align: right;\">\n",
              "      <th></th>\n",
              "      <th>Model</th>\n",
              "      <th>Average Precision</th>\n",
              "      <th>Average Recall</th>\n",
              "      <th>Average MRR</th>\n",
              "      <th>Average r-Precision</th>\n",
              "    </tr>\n",
              "  </thead>\n",
              "  <tbody>\n",
              "    <tr>\n",
              "      <th>0</th>\n",
              "      <td>Word2Vec with song metadata</td>\n",
              "      <td>0.130293</td>\n",
              "      <td>0.602623</td>\n",
              "      <td>0.56759</td>\n",
              "      <td>0.130293</td>\n",
              "    </tr>\n",
              "  </tbody>\n",
              "</table>\n",
              "</div>"
            ],
            "text/plain": [
              "                         Model  ...  Average r-Precision\n",
              "0  Word2Vec with song metadata  ...             0.130293\n",
              "\n",
              "[1 rows x 5 columns]"
            ]
          },
          "metadata": {
            "tags": []
          },
          "execution_count": 47
        }
      ]
    },
    {
      "cell_type": "code",
      "metadata": {
        "id": "58EsBTo1BZnr",
        "colab_type": "code",
        "colab": {}
      },
      "source": [
        ""
      ],
      "execution_count": 0,
      "outputs": []
    }
  ]
}